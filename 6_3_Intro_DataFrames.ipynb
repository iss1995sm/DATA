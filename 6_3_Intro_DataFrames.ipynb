{
 "cells": [
  {
   "cell_type": "markdown",
   "metadata": {
    "application/vnd.databricks.v1+cell": {
     "inputWidgets": {},
     "nuid": "ff2ea6ec-75f0-4c15-bf65-850457a1b848",
     "showTitle": false,
     "title": ""
    }
   },
   "source": [
    "# Trabajando con DataFrames"
   ]
  },
  {
   "cell_type": "markdown",
   "metadata": {
    "application/vnd.databricks.v1+cell": {
     "inputWidgets": {},
     "nuid": "4eb0d43e-9d1e-47f6-9d07-339564af20c0",
     "showTitle": false,
     "title": ""
    }
   },
   "source": [
    "#### Crear un DataFrame desde un RDD"
   ]
  },
  {
   "cell_type": "code",
   "execution_count": 0,
   "metadata": {
    "application/vnd.databricks.v1+cell": {
     "inputWidgets": {},
     "nuid": "0a37c903-f8a3-45a1-8fe2-b176bdb412c7",
     "showTitle": false,
     "title": ""
    }
   },
   "outputs": [],
   "source": [
    "from pyspark.sql import SparkSession\n",
    "\n",
    "spark = SparkSession.builder.getOrCreate()"
   ]
  },
  {
   "cell_type": "code",
   "execution_count": 0,
   "metadata": {
    "application/vnd.databricks.v1+cell": {
     "inputWidgets": {},
     "nuid": "8c1ba1b4-9e9e-4c4a-9c9a-dd6f96d6bf9b",
     "showTitle": false,
     "title": ""
    }
   },
   "outputs": [
    {
     "data": {
      "text/plain": [
       "root\n",
       " |-- _1: string (nullable = true)\n",
       " |-- _2: long (nullable = true)\n",
       "\n"
      ]
     },
     "metadata": {
      "application/vnd.databricks.v1+output": {
       "addedWidgets": {},
       "arguments": {},
       "data": "root\n |-- _1: string (nullable = true)\n |-- _2: long (nullable = true)\n\n",
       "datasetInfos": [],
       "metadata": {},
       "removedWidgets": [],
       "type": "ansi"
      }
     },
     "output_type": "display_data"
    }
   ],
   "source": [
    "datos = [(\"Aitor\", 182), (\"Pedro\", 178), (\"Marina\", 161)]\n",
    "rdd = spark.sparkContext.parallelize(datos)\n",
    "\n",
    "# Creamos un DataFrame y mostramos su esquema\n",
    "dfRDD = rdd.toDF()\n",
    "dfRDD.printSchema()"
   ]
  },
  {
   "cell_type": "code",
   "execution_count": 0,
   "metadata": {
    "application/vnd.databricks.v1+cell": {
     "inputWidgets": {},
     "nuid": "5e3e8f03-f385-4993-97c9-49071cfc324f",
     "showTitle": false,
     "title": ""
    }
   },
   "outputs": [
    {
     "data": {
      "text/plain": [
       "root\n",
       " |-- nombre: string (nullable = true)\n",
       " |-- altura: long (nullable = true)\n",
       "\n"
      ]
     },
     "metadata": {
      "application/vnd.databricks.v1+output": {
       "addedWidgets": {},
       "arguments": {},
       "data": "root\n |-- nombre: string (nullable = true)\n |-- altura: long (nullable = true)\n\n",
       "datasetInfos": [],
       "metadata": {},
       "removedWidgets": [],
       "type": "ansi"
      }
     },
     "output_type": "display_data"
    }
   ],
   "source": [
    "# Asignamos nombres a cada columna con una lista\n",
    "columnas = [\"nombre\",\"altura\"]\n",
    "dfRDD = rdd.toDF(columnas)\n",
    "dfRDD.printSchema()"
   ]
  },
  {
   "cell_type": "code",
   "execution_count": 0,
   "metadata": {
    "application/vnd.databricks.v1+cell": {
     "inputWidgets": {},
     "nuid": "f54e8850-6990-4d5a-b66e-a5b088f7b289",
     "showTitle": false,
     "title": ""
    }
   },
   "outputs": [
    {
     "data": {
      "text/plain": [
       "+------+------+\n",
       "|nombre|altura|\n",
       "+------+------+\n",
       "| Aitor|   182|\n",
       "| Pedro|   178|\n",
       "|Marina|   161|\n",
       "+------+------+\n",
       "\n"
      ]
     },
     "metadata": {
      "application/vnd.databricks.v1+output": {
       "addedWidgets": {},
       "arguments": {},
       "data": "+------+------+\n|nombre|altura|\n+------+------+\n| Aitor|   182|\n| Pedro|   178|\n|Marina|   161|\n+------+------+\n\n",
       "datasetInfos": [],
       "metadata": {},
       "removedWidgets": [],
       "type": "ansi"
      }
     },
     "output_type": "display_data"
    }
   ],
   "source": [
    "# Mostramos los datos del dataframe\n",
    "dfRDD.show()"
   ]
  },
  {
   "cell_type": "markdown",
   "metadata": {
    "application/vnd.databricks.v1+cell": {
     "inputWidgets": {},
     "nuid": "c8927512-b088-4668-bc4b-40a58029f23f",
     "showTitle": false,
     "title": ""
    }
   },
   "source": [
    "#### Crear un DataFrame directamente"
   ]
  },
  {
   "cell_type": "code",
   "execution_count": 0,
   "metadata": {
    "application/vnd.databricks.v1+cell": {
     "inputWidgets": {},
     "nuid": "972e294a-4572-445e-b16f-901bb02d7035",
     "showTitle": false,
     "title": ""
    }
   },
   "outputs": [
    {
     "data": {
      "text/plain": [
       "root\n",
       " |-- nombre: string (nullable = true)\n",
       " |-- altura: long (nullable = true)\n",
       "\n"
      ]
     },
     "metadata": {
      "application/vnd.databricks.v1+output": {
       "addedWidgets": {},
       "arguments": {},
       "data": "root\n |-- nombre: string (nullable = true)\n |-- altura: long (nullable = true)\n\n",
       "datasetInfos": [],
       "metadata": {},
       "removedWidgets": [],
       "type": "ansi"
      }
     },
     "output_type": "display_data"
    }
   ],
   "source": [
    "dfDesdeDatos = spark.createDataFrame(datos).toDF(*columnas)\n",
    "dfDesdeDatos.printSchema()"
   ]
  },
  {
   "cell_type": "code",
   "execution_count": 0,
   "metadata": {
    "application/vnd.databricks.v1+cell": {
     "inputWidgets": {},
     "nuid": "e567f7cd-be88-4361-bdba-77fa215c4bbc",
     "showTitle": false,
     "title": ""
    }
   },
   "outputs": [],
   "source": [
    "# Directamente desde valores de una lista de registros\n",
    "clientes = [\n",
    "    (\"Alex\", \"Martín\", \"Madrid\", 3000),\n",
    "    (\"Pedro\", \"Casas\", \"Getafe\", 4000),\n",
    "    (\"Laura\", \"García\", \"Majadahonda\", 5000), \n",
    "    (\"Miguel\", \"Ruiz\", \"Alcalá\", 6000),\n",
    "    (\"Isabel\", \"Guillén\", \"Leganés\", 7000)\n",
    "]\n",
    "columnas = [\"Nombre\",\"Apellidos\",\"Ciudad\",\"Sueldo\"]\n",
    "df = spark.createDataFrame(data=clientes).toDF(*columnas)"
   ]
  },
  {
   "cell_type": "markdown",
   "metadata": {
    "application/vnd.databricks.v1+cell": {
     "inputWidgets": {},
     "nuid": "4af32d08-ad50-4698-bd6b-05d70c67dcaa",
     "showTitle": false,
     "title": ""
    }
   },
   "source": [
    "#### Mostrar el contenido del DataFrame"
   ]
  },
  {
   "cell_type": "code",
   "execution_count": 0,
   "metadata": {
    "application/vnd.databricks.v1+cell": {
     "inputWidgets": {},
     "nuid": "3104c9d5-6d57-4bae-9fb1-5db5fd22f394",
     "showTitle": false,
     "title": ""
    }
   },
   "outputs": [
    {
     "data": {
      "text/plain": [
       "+------+---------+------+------+\n",
       "|Nombre|Apellidos|Ciudad|Sueldo|\n",
       "+------+---------+------+------+\n",
       "|  Alex|   Martín|Madrid|  3000|\n",
       "| Pedro|    Casas|Getafe|  4000|\n",
       "+------+---------+------+------+\n",
       "only showing top 2 rows\n",
       "\n"
      ]
     },
     "metadata": {
      "application/vnd.databricks.v1+output": {
       "addedWidgets": {},
       "arguments": {},
       "data": "+------+---------+------+------+\n|Nombre|Apellidos|Ciudad|Sueldo|\n+------+---------+------+------+\n|  Alex|   Martín|Madrid|  3000|\n| Pedro|    Casas|Getafe|  4000|\n+------+---------+------+------+\nonly showing top 2 rows\n\n",
       "datasetInfos": [],
       "metadata": {},
       "removedWidgets": [],
       "type": "ansi"
      }
     },
     "output_type": "display_data"
    }
   ],
   "source": [
    "# Se utiliza el DataFrame df recién creado \n",
    "df.show(2)"
   ]
  },
  {
   "cell_type": "code",
   "execution_count": 0,
   "metadata": {
    "application/vnd.databricks.v1+cell": {
     "inputWidgets": {},
     "nuid": "722feb8c-407f-45ca-8f58-0112e39212c3",
     "showTitle": false,
     "title": ""
    }
   },
   "outputs": [
    {
     "data": {
      "text/plain": [
       "+------+---------+------+------+\n",
       "|Nombre|Apellidos|Ciudad|Sueldo|\n",
       "+------+---------+------+------+\n",
       "|  Alex|     M...|  M...|  3000|\n",
       "|  P...|     C...|  G...|  4000|\n",
       "|  L...|     G...|  M...|  5000|\n",
       "|  M...|     Ruiz|  A...|  6000|\n",
       "|  I...|     G...|  L...|  7000|\n",
       "+------+---------+------+------+\n",
       "\n"
      ]
     },
     "metadata": {
      "application/vnd.databricks.v1+output": {
       "addedWidgets": {},
       "arguments": {},
       "data": "+------+---------+------+------+\n|Nombre|Apellidos|Ciudad|Sueldo|\n+------+---------+------+------+\n|  Alex|     M...|  M...|  3000|\n|  P...|     C...|  G...|  4000|\n|  L...|     G...|  M...|  5000|\n|  M...|     Ruiz|  A...|  6000|\n|  I...|     G...|  L...|  7000|\n+------+---------+------+------+\n\n",
       "datasetInfos": [],
       "metadata": {},
       "removedWidgets": [],
       "type": "ansi"
      }
     },
     "output_type": "display_data"
    }
   ],
   "source": [
    "# Sin truncado de datos\n",
    "df.show(truncate=4)"
   ]
  },
  {
   "cell_type": "code",
   "execution_count": 0,
   "metadata": {
    "application/vnd.databricks.v1+cell": {
     "inputWidgets": {},
     "nuid": "d039603f-98fa-421e-ab56-ce67eff63336",
     "showTitle": false,
     "title": ""
    }
   },
   "outputs": [
    {
     "data": {
      "text/plain": [
       "-RECORD 0----------------\n",
       " Nombre    | Alex        \n",
       " Apellidos | Martín      \n",
       " Ciudad    | Madrid      \n",
       " Sueldo    | 3000        \n",
       "-RECORD 1----------------\n",
       " Nombre    | Pedro       \n",
       " Apellidos | Casas       \n",
       " Ciudad    | Getafe      \n",
       " Sueldo    | 4000        \n",
       "-RECORD 2----------------\n",
       " Nombre    | Laura       \n",
       " Apellidos | García      \n",
       " Ciudad    | Majadahonda \n",
       " Sueldo    | 5000        \n",
       "only showing top 3 rows\n",
       "\n"
      ]
     },
     "metadata": {
      "application/vnd.databricks.v1+output": {
       "addedWidgets": {},
       "arguments": {},
       "data": "-RECORD 0----------------\n Nombre    | Alex        \n Apellidos | Martín      \n Ciudad    | Madrid      \n Sueldo    | 3000        \n-RECORD 1----------------\n Nombre    | Pedro       \n Apellidos | Casas       \n Ciudad    | Getafe      \n Sueldo    | 4000        \n-RECORD 2----------------\n Nombre    | Laura       \n Apellidos | García      \n Ciudad    | Majadahonda \n Sueldo    | 5000        \nonly showing top 3 rows\n\n",
       "datasetInfos": [],
       "metadata": {},
       "removedWidgets": [],
       "type": "ansi"
      }
     },
     "output_type": "display_data"
    }
   ],
   "source": [
    "# Registros en vertical\n",
    "df.show(3, vertical=True)"
   ]
  },
  {
   "cell_type": "code",
   "execution_count": 0,
   "metadata": {
    "application/vnd.databricks.v1+cell": {
     "inputWidgets": {},
     "nuid": "b4402fd1-8132-49f7-991f-5898635a330a",
     "showTitle": false,
     "title": ""
    }
   },
   "outputs": [
    {
     "data": {
      "text/plain": [
       "Out[18]: Row(Nombre='Alex', Apellidos='Martín', Ciudad='Madrid', Sueldo=3000)"
      ]
     },
     "metadata": {
      "application/vnd.databricks.v1+output": {
       "addedWidgets": {},
       "arguments": {},
       "data": "Out[18]: Row(Nombre='Alex', Apellidos='Martín', Ciudad='Madrid', Sueldo=3000)",
       "datasetInfos": [],
       "metadata": {},
       "removedWidgets": [],
       "type": "ansi"
      }
     },
     "output_type": "display_data"
    }
   ],
   "source": [
    "# Primer registro del DataFrame\n",
    "df.first()"
   ]
  },
  {
   "cell_type": "code",
   "execution_count": 0,
   "metadata": {
    "application/vnd.databricks.v1+cell": {
     "inputWidgets": {},
     "nuid": "fe1666b6-4d1c-4f21-809a-a6b074047658",
     "showTitle": false,
     "title": ""
    }
   },
   "outputs": [
    {
     "data": {
      "text/plain": [
       "Out[19]: [Row(Nombre='Alex', Apellidos='Martín', Ciudad='Madrid', Sueldo=3000),\n",
       " Row(Nombre='Pedro', Apellidos='Casas', Ciudad='Getafe', Sueldo=4000),\n",
       " Row(Nombre='Laura', Apellidos='García', Ciudad='Majadahonda', Sueldo=5000)]"
      ]
     },
     "metadata": {
      "application/vnd.databricks.v1+output": {
       "addedWidgets": {},
       "arguments": {},
       "data": "Out[19]: [Row(Nombre='Alex', Apellidos='Martín', Ciudad='Madrid', Sueldo=3000),\n Row(Nombre='Pedro', Apellidos='Casas', Ciudad='Getafe', Sueldo=4000),\n Row(Nombre='Laura', Apellidos='García', Ciudad='Majadahonda', Sueldo=5000)]",
       "datasetInfos": [],
       "metadata": {},
       "removedWidgets": [],
       "type": "ansi"
      }
     },
     "output_type": "display_data"
    }
   ],
   "source": [
    "# Los tres primeros. Devuelve un objeto tipo Row\n",
    "df.head(3)"
   ]
  },
  {
   "cell_type": "code",
   "execution_count": 0,
   "metadata": {
    "application/vnd.databricks.v1+cell": {
     "inputWidgets": {},
     "nuid": "eba48530-86b0-4dc1-81ae-4a229cde22f9",
     "showTitle": false,
     "title": ""
    }
   },
   "outputs": [
    {
     "data": {
      "text/plain": [
       "Alex\n",
       "Alex\n"
      ]
     },
     "metadata": {
      "application/vnd.databricks.v1+output": {
       "addedWidgets": {},
       "arguments": {},
       "data": "Alex\nAlex\n",
       "datasetInfos": [],
       "metadata": {},
       "removedWidgets": [],
       "type": "ansi"
      }
     },
     "output_type": "display_data"
    }
   ],
   "source": [
    "# Obtener un valor concreto de una fila por posición o por campo\n",
    "nom1 = df.first()[0]        \n",
    "print(nom1)\n",
    "nom2 = df.first()[\"Nombre\"] \n",
    "print(nom2)"
   ]
  },
  {
   "cell_type": "code",
   "execution_count": 0,
   "metadata": {
    "application/vnd.databricks.v1+cell": {
     "inputWidgets": {},
     "nuid": "bed7c244-6d25-4e13-8156-e21b92b5c2a8",
     "showTitle": false,
     "title": ""
    }
   },
   "outputs": [
    {
     "data": {
      "text/plain": [
       "+-------+------+---------+-----------+------------------+\n",
       "|summary|Nombre|Apellidos|     Ciudad|            Sueldo|\n",
       "+-------+------+---------+-----------+------------------+\n",
       "|  count|     5|        5|          5|                 5|\n",
       "|   mean|  null|     null|       null|            5000.0|\n",
       "| stddev|  null|     null|       null|1581.1388300841897|\n",
       "|    min|  Alex|    Casas|     Alcalá|              3000|\n",
       "|    max| Pedro|     Ruiz|Majadahonda|              7000|\n",
       "+-------+------+---------+-----------+------------------+\n",
       "\n"
      ]
     },
     "metadata": {
      "application/vnd.databricks.v1+output": {
       "addedWidgets": {},
       "arguments": {},
       "data": "+-------+------+---------+-----------+------------------+\n|summary|Nombre|Apellidos|     Ciudad|            Sueldo|\n+-------+------+---------+-----------+------------------+\n|  count|     5|        5|          5|                 5|\n|   mean|  null|     null|       null|            5000.0|\n| stddev|  null|     null|       null|1581.1388300841897|\n|    min|  Alex|    Casas|     Alcalá|              3000|\n|    max| Pedro|     Ruiz|Majadahonda|              7000|\n+-------+------+---------+-----------+------------------+\n\n",
       "datasetInfos": [],
       "metadata": {},
       "removedWidgets": [],
       "type": "ansi"
      }
     },
     "output_type": "display_data"
    }
   ],
   "source": [
    "# Resumen de los datos del DataFrame\n",
    "df.describe().show()"
   ]
  },
  {
   "cell_type": "code",
   "execution_count": 0,
   "metadata": {
    "application/vnd.databricks.v1+cell": {
     "inputWidgets": {},
     "nuid": "9b2e56d1-3de2-4129-a207-456e678ae679",
     "showTitle": false,
     "title": ""
    }
   },
   "outputs": [
    {
     "data": {
      "text/plain": [
       "Out[23]: 5"
      ]
     },
     "metadata": {
      "application/vnd.databricks.v1+output": {
       "addedWidgets": {},
       "arguments": {},
       "data": "Out[23]: 5",
       "datasetInfos": [],
       "metadata": {},
       "removedWidgets": [],
       "type": "ansi"
      }
     },
     "output_type": "display_data"
    }
   ],
   "source": [
    "# Obtener el número de registros del DataFrame\n",
    "df.count()"
   ]
  },
  {
   "cell_type": "code",
   "execution_count": 0,
   "metadata": {
    "application/vnd.databricks.v1+cell": {
     "inputWidgets": {},
     "nuid": "9b35bc9b-f185-4c0c-b715-6a6dea9d8a8d",
     "showTitle": false,
     "title": ""
    }
   },
   "outputs": [
    {
     "data": {
      "text/plain": [
       "Out[24]: [Row(Nombre='Alex', Apellidos='Martín', Ciudad='Madrid', Sueldo=3000),\n",
       " Row(Nombre='Pedro', Apellidos='Casas', Ciudad='Getafe', Sueldo=4000),\n",
       " Row(Nombre='Laura', Apellidos='García', Ciudad='Majadahonda', Sueldo=5000),\n",
       " Row(Nombre='Miguel', Apellidos='Ruiz', Ciudad='Alcalá', Sueldo=6000),\n",
       " Row(Nombre='Isabel', Apellidos='Guillén', Ciudad='Leganés', Sueldo=7000)]"
      ]
     },
     "metadata": {
      "application/vnd.databricks.v1+output": {
       "addedWidgets": {},
       "arguments": {},
       "data": "Out[24]: [Row(Nombre='Alex', Apellidos='Martín', Ciudad='Madrid', Sueldo=3000),\n Row(Nombre='Pedro', Apellidos='Casas', Ciudad='Getafe', Sueldo=4000),\n Row(Nombre='Laura', Apellidos='García', Ciudad='Majadahonda', Sueldo=5000),\n Row(Nombre='Miguel', Apellidos='Ruiz', Ciudad='Alcalá', Sueldo=6000),\n Row(Nombre='Isabel', Apellidos='Guillén', Ciudad='Leganés', Sueldo=7000)]",
       "datasetInfos": [],
       "metadata": {},
       "removedWidgets": [],
       "type": "ansi"
      }
     },
     "output_type": "display_data"
    }
   ],
   "source": [
    "# Uso de los métodos propios del RDD para mostrar datos\n",
    "df.collect()"
   ]
  },
  {
   "cell_type": "code",
   "execution_count": 0,
   "metadata": {
    "application/vnd.databricks.v1+cell": {
     "inputWidgets": {},
     "nuid": "827e18c1-ee49-47f9-9541-9d55a4911cd2",
     "showTitle": false,
     "title": ""
    }
   },
   "outputs": [
    {
     "data": {
      "text/plain": [
       "Out[26]: [Row(Nombre='Alex', Apellidos='Martín', Ciudad='Madrid', Sueldo=3000),\n",
       " Row(Nombre='Pedro', Apellidos='Casas', Ciudad='Getafe', Sueldo=4000)]"
      ]
     },
     "metadata": {
      "application/vnd.databricks.v1+output": {
       "addedWidgets": {},
       "arguments": {},
       "data": "Out[26]: [Row(Nombre='Alex', Apellidos='Martín', Ciudad='Madrid', Sueldo=3000),\n Row(Nombre='Pedro', Apellidos='Casas', Ciudad='Getafe', Sueldo=4000)]",
       "datasetInfos": [],
       "metadata": {},
       "removedWidgets": [],
       "type": "ansi"
      }
     },
     "output_type": "display_data"
    }
   ],
   "source": [
    "df.take(2)"
   ]
  },
  {
   "cell_type": "code",
   "execution_count": 0,
   "metadata": {
    "application/vnd.databricks.v1+cell": {
     "inputWidgets": {},
     "nuid": "34f07747-be0e-4d1d-9270-fffd49011a15",
     "showTitle": false,
     "title": ""
    }
   },
   "outputs": [
    {
     "data": {
      "text/plain": [
       "Martín\n"
      ]
     },
     "metadata": {
      "application/vnd.databricks.v1+output": {
       "addedWidgets": {},
       "arguments": {},
       "data": "Martín\n",
       "datasetInfos": [],
       "metadata": {},
       "removedWidgets": [],
       "type": "ansi"
      }
     },
     "output_type": "display_data"
    }
   ],
   "source": [
    "nom = df.collect()[0][1]\n",
    "print(nom)"
   ]
  }
 ],
 "metadata": {
  "application/vnd.databricks.v1+notebook": {
   "dashboards": [],
   "language": "python",
   "notebookMetadata": {
    "pythonIndentUnit": 4
   },
   "notebookName": "6_3_Intro_DataFrames",
   "notebookOrigID": 326307587237015,
   "widgets": {}
  },
  "kernelspec": {
   "display_name": "Python 3",
   "language": "python",
   "name": "python3"
  },
  "language_info": {
   "codemirror_mode": {
    "name": "ipython",
    "version": 3
   },
   "file_extension": ".py",
   "mimetype": "text/x-python",
   "name": "python",
   "nbconvert_exporter": "python",
   "pygments_lexer": "ipython3",
   "version": "3.8.10"
  }
 },
 "nbformat": 4,
 "nbformat_minor": 1
}
