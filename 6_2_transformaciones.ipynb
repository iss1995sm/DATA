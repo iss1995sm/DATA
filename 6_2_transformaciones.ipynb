{
 "cells": [
  {
   "cell_type": "markdown",
   "metadata": {
    "application/vnd.databricks.v1+cell": {
     "inputWidgets": {},
     "nuid": "ce02ca76-d91e-4a5d-934b-26ae8c3f08a3",
     "showTitle": false,
     "title": ""
    }
   },
   "source": [
    "# Transformaciones"
   ]
  },
  {
   "cell_type": "markdown",
   "metadata": {
    "application/vnd.databricks.v1+cell": {
     "inputWidgets": {},
     "nuid": "b05d9e69-fc36-45b3-8a68-aeb3d6e7d6b2",
     "showTitle": false,
     "title": ""
    }
   },
   "source": [
    "## Transformaciones Narrow"
   ]
  },
  {
   "cell_type": "markdown",
   "metadata": {
    "application/vnd.databricks.v1+cell": {
     "inputWidgets": {},
     "nuid": "99cdf7b5-a3e3-4587-b166-94e8fba425c4",
     "showTitle": false,
     "title": ""
    }
   },
   "source": [
    "#### Map"
   ]
  },
  {
   "cell_type": "code",
   "execution_count": 0,
   "metadata": {
    "application/vnd.databricks.v1+cell": {
     "inputWidgets": {},
     "nuid": "1dcc035c-ad71-42cd-9735-0b6bf5ca171e",
     "showTitle": false,
     "title": ""
    }
   },
   "outputs": [],
   "source": [
    "# Cargamos un archivo de texto donde cada línea es un dato del RDD\n",
    "rdd = sc.textFile(\"/FileStore/tables/empleados.txt\") \n",
    "rdd.count()                 # 4 - cantidad de líneas\n",
    "resultRDD = rdd.map(len)    # obtenemos la cantidad de caracteres cada línea\n",
    "resultRDD.collect() "
   ]
  },
  {
   "cell_type": "code",
   "execution_count": 0,
   "metadata": {
    "application/vnd.databricks.v1+cell": {
     "inputWidgets": {},
     "nuid": "76ae14c7-5d32-4059-9b64-8fdc1b812ab5",
     "showTitle": false,
     "title": ""
    }
   },
   "outputs": [],
   "source": [
    "# Muestra los datos de los empleados\n",
    "empleados = rdd.collect()\n",
    "for empleado in empleados:\n",
    "    print(empleado)"
   ]
  },
  {
   "cell_type": "markdown",
   "metadata": {
    "application/vnd.databricks.v1+cell": {
     "inputWidgets": {},
     "nuid": "02b374d9-0e77-489c-bd9c-bc97e07145f0",
     "showTitle": false,
     "title": ""
    }
   },
   "source": [
    "#### FlatMap"
   ]
  },
  {
   "cell_type": "code",
   "execution_count": 0,
   "metadata": {
    "application/vnd.databricks.v1+cell": {
     "inputWidgets": {},
     "nuid": "e4aab6ff-dfe1-4650-bfab-45feaf638131",
     "showTitle": false,
     "title": ""
    }
   },
   "outputs": [],
   "source": [
    "# Se obtiene una única lista donde cada atributo es un elemento de la lista\n",
    "rdd = sc.textFile(\"/FileStore/tables/empleados.txt\") \n",
    "resultFM = rdd.flatMap(lambda x: x.split(\"|\"))\n",
    "resultFM.collect()"
   ]
  },
  {
   "cell_type": "markdown",
   "metadata": {
    "application/vnd.databricks.v1+cell": {
     "inputWidgets": {},
     "nuid": "ef653872-f82b-432d-8aa3-87283bed43d6",
     "showTitle": false,
     "title": ""
    }
   },
   "source": [
    "#### Filter"
   ]
  },
  {
   "cell_type": "code",
   "execution_count": 0,
   "metadata": {
    "application/vnd.databricks.v1+cell": {
     "inputWidgets": {},
     "nuid": "14f40513-149f-462f-a211-dc7be1c0af05",
     "showTitle": false,
     "title": ""
    }
   },
   "outputs": [],
   "source": [
    "rdd = sc.textFile(\"/FileStore/tables/empleados.txt\") \n",
    "hombres = rdd.filter(lambda x: x.split(\"|\")[2].split(\",\")[0] == \"Male\")\n",
    "resultFM.collect()"
   ]
  },
  {
   "cell_type": "markdown",
   "metadata": {
    "application/vnd.databricks.v1+cell": {
     "inputWidgets": {},
     "nuid": "db1059b6-2b90-445c-9bbe-2f9d07c6708f",
     "showTitle": false,
     "title": ""
    }
   },
   "source": [
    "#### Distinct"
   ]
  },
  {
   "cell_type": "code",
   "execution_count": 0,
   "metadata": {
    "application/vnd.databricks.v1+cell": {
     "inputWidgets": {},
     "nuid": "7ca442d1-749f-4942-ab5a-abb8006f0cfb",
     "showTitle": false,
     "title": ""
    }
   },
   "outputs": [],
   "source": [
    "rdd = sc.parallelize([1,1,2,2,3,4,5])\n",
    "resultRDD = rdd.distinct()\n",
    "resultRDD.collect()     "
   ]
  },
  {
   "cell_type": "markdown",
   "metadata": {
    "application/vnd.databricks.v1+cell": {
     "inputWidgets": {},
     "nuid": "b5d71468-6a7d-464b-8631-b61270ae9e48",
     "showTitle": false,
     "title": ""
    }
   },
   "source": [
    "### Conjuntos"
   ]
  },
  {
   "cell_type": "code",
   "execution_count": 0,
   "metadata": {
    "application/vnd.databricks.v1+cell": {
     "inputWidgets": {},
     "nuid": "f4d714f2-888b-43d7-b959-c830210488fc",
     "showTitle": false,
     "title": ""
    }
   },
   "outputs": [],
   "source": [
    "# Declaracion de los RDD\n",
    "rdd1 = sc.parallelize([1,2,3,4])\n",
    "rdd2 = sc.parallelize([3,4,5,6])"
   ]
  },
  {
   "cell_type": "code",
   "execution_count": 0,
   "metadata": {
    "application/vnd.databricks.v1+cell": {
     "inputWidgets": {},
     "nuid": "d811c75b-24d9-4b57-9237-f6b440766cc5",
     "showTitle": false,
     "title": ""
    }
   },
   "outputs": [],
   "source": [
    "# Union de conjuntos\n",
    "resultRDD = rdd1.union(rdd2)\n",
    "resultRDD.collect()"
   ]
  },
  {
   "cell_type": "code",
   "execution_count": 0,
   "metadata": {
    "application/vnd.databricks.v1+cell": {
     "inputWidgets": {},
     "nuid": "042a0936-7825-424d-b010-33a711fea2fb",
     "showTitle": false,
     "title": ""
    }
   },
   "outputs": [],
   "source": [
    "# Intersección de conjuntos\n",
    "resultRDD = rdd1.intersection(rdd2)\n",
    "resultRDD.collect()"
   ]
  },
  {
   "cell_type": "code",
   "execution_count": 0,
   "metadata": {
    "application/vnd.databricks.v1+cell": {
     "inputWidgets": {},
     "nuid": "91b3788a-ab4b-44b4-927d-7830b0024bc7",
     "showTitle": false,
     "title": ""
    }
   },
   "outputs": [],
   "source": [
    "# Resta del primer RDD los que están en un segundo\n",
    "resultRDD = rdd1.subtract(rdd2)\n",
    "resultRDD.collect()"
   ]
  },
  {
   "cell_type": "markdown",
   "metadata": {
    "application/vnd.databricks.v1+cell": {
     "inputWidgets": {},
     "nuid": "ab62ab86-2655-44ed-ae17-9ef57f5d179e",
     "showTitle": false,
     "title": ""
    }
   },
   "source": [
    "## RDD de Pares"
   ]
  },
  {
   "cell_type": "markdown",
   "metadata": {
    "application/vnd.databricks.v1+cell": {
     "inputWidgets": {},
     "nuid": "bee90add-2969-4e02-8e77-7ad86d4183a3",
     "showTitle": false,
     "title": ""
    }
   },
   "source": [
    "#### zip\n",
    "Une dos listas del mismo tamaño"
   ]
  },
  {
   "cell_type": "code",
   "execution_count": 0,
   "metadata": {
    "application/vnd.databricks.v1+cell": {
     "inputWidgets": {},
     "nuid": "492d5382-ba39-4d6d-90f9-847a6cdaeef3",
     "showTitle": false,
     "title": ""
    }
   },
   "outputs": [],
   "source": [
    "lista1 = ['a','b','c','e','f','g','h']\n",
    "lista2 = [4, 5, 6, 7, 8, 9, 10]\n",
    "rddZip = sc.parallelize(lista1).zip(sc.parallelize(lista2))\n",
    "rddZip.collect()"
   ]
  },
  {
   "cell_type": "code",
   "execution_count": 0,
   "metadata": {
    "application/vnd.databricks.v1+cell": {
     "inputWidgets": {},
     "nuid": "226db21d-6a56-490c-bc81-9660f40d8517",
     "showTitle": false,
     "title": ""
    }
   },
   "outputs": [],
   "source": [
    "rddZipSecuencia = sc.parallelize(zip(lista1,range(len(lista1)))) \n",
    "rddZipSecuencia.collect()"
   ]
  },
  {
   "cell_type": "markdown",
   "metadata": {
    "application/vnd.databricks.v1+cell": {
     "inputWidgets": {},
     "nuid": "bc4b328c-6c52-4385-a32e-8a880c3adc4c",
     "showTitle": false,
     "title": ""
    }
   },
   "source": [
    "#### map\n",
    "Asigna a cada elemento un valor o cálculo basado en él mismo"
   ]
  },
  {
   "cell_type": "code",
   "execution_count": 0,
   "metadata": {
    "application/vnd.databricks.v1+cell": {
     "inputWidgets": {},
     "nuid": "1e927ac5-ff21-4ce2-bfe5-3324b16d7d82",
     "showTitle": false,
     "title": ""
    }
   },
   "outputs": [],
   "source": [
    "lista  = ['Hola', 'Adiós', 'Hasta luego']\n",
    "rddMap = sc.parallelize(lista).map(lambda x: (x, len(x)))\n",
    "rddMap.collect()"
   ]
  },
  {
   "cell_type": "markdown",
   "metadata": {
    "application/vnd.databricks.v1+cell": {
     "inputWidgets": {},
     "nuid": "a49c49b6-6b95-4c75-94c5-52139b187ab6",
     "showTitle": false,
     "title": ""
    }
   },
   "source": [
    "#### keyBy\n",
    "crea las claves a partir de cada elemento"
   ]
  },
  {
   "cell_type": "code",
   "execution_count": 0,
   "metadata": {
    "application/vnd.databricks.v1+cell": {
     "inputWidgets": {},
     "nuid": "e6d121e9-d2e8-4758-8d7e-252b7944d638",
     "showTitle": false,
     "title": ""
    }
   },
   "outputs": [],
   "source": [
    "# creamos una clave con la primera letra\n",
    "rddKeyBy = sc.parallelize(lista).keyBy(lambda x: x[0])\n",
    "rddKeyBy.collect()"
   ]
  },
  {
   "cell_type": "markdown",
   "metadata": {
    "application/vnd.databricks.v1+cell": {
     "inputWidgets": {},
     "nuid": "680ee35f-5897-41f3-96c0-bf8056e57dce",
     "showTitle": false,
     "title": ""
    }
   },
   "source": [
    "### Código de ejemplo\n",
    "\n",
    "Otras transformaciones \n",
    "* **keys**: devuelve las claves\n",
    "* **values**: devuelve los valores\n",
    "* **mapValues**: Aplica la función sobre los valores\n",
    "* **flatMapValues**: Aplica la función sobre los valores y los aplana."
   ]
  },
  {
   "cell_type": "code",
   "execution_count": 0,
   "metadata": {
    "application/vnd.databricks.v1+cell": {
     "inputWidgets": {},
     "nuid": "86c34fd6-bcc6-4abd-a188-e5e81980a174",
     "showTitle": false,
     "title": ""
    }
   },
   "outputs": [],
   "source": [
    "listaTuplas = [('a',1), ('z',3), ('b',4), ('c',3), ('a',4)]\n",
    "rddTuplas= sc.parallelize(listaTuplas)\n",
    "\n",
    "claves = rddTuplas.keys()       \n",
    "claves.collect()"
   ]
  },
  {
   "cell_type": "code",
   "execution_count": 0,
   "metadata": {
    "application/vnd.databricks.v1+cell": {
     "inputWidgets": {},
     "nuid": "e99ead48-f449-458e-9512-aff5b0d82158",
     "showTitle": false,
     "title": ""
    }
   },
   "outputs": [],
   "source": [
    "valores = rddTuplas.values()\n",
    "valores.collect()"
   ]
  },
  {
   "cell_type": "code",
   "execution_count": 0,
   "metadata": {
    "application/vnd.databricks.v1+cell": {
     "inputWidgets": {},
     "nuid": "bafead25-74f4-4243-b439-5ab30a87f60c",
     "showTitle": false,
     "title": ""
    }
   },
   "outputs": [],
   "source": [
    "rddMapValues = rddTuplas.mapValues(lambda x: (x,x*2))\n",
    "rddMapValues.collect()"
   ]
  },
  {
   "cell_type": "code",
   "execution_count": 0,
   "metadata": {
    "application/vnd.databricks.v1+cell": {
     "inputWidgets": {},
     "nuid": "47eb36e7-5f3d-42d0-814d-9f2e5ec13fff",
     "showTitle": false,
     "title": ""
    }
   },
   "outputs": [],
   "source": [
    "rddFMV = rddTuplas.flatMapValues(lambda x: (x,x*2))\n",
    "rddFMV.collect()"
   ]
  },
  {
   "cell_type": "markdown",
   "metadata": {
    "application/vnd.databricks.v1+cell": {
     "inputWidgets": {},
     "nuid": "46718aad-e338-4120-8d56-2f4f3cfc27a9",
     "showTitle": false,
     "title": ""
    }
   },
   "source": [
    "## Transformaciones Wide"
   ]
  },
  {
   "cell_type": "markdown",
   "metadata": {
    "application/vnd.databricks.v1+cell": {
     "inputWidgets": {},
     "nuid": "20f87f00-fcf2-4c88-a80b-dafb14ff540f",
     "showTitle": false,
     "title": ""
    }
   },
   "source": [
    "#### ReduceByKey"
   ]
  },
  {
   "cell_type": "code",
   "execution_count": 0,
   "metadata": {
    "application/vnd.databricks.v1+cell": {
     "inputWidgets": {},
     "nuid": "ba50b3d8-1a37-42db-85b4-68e09064173d",
     "showTitle": false,
     "title": ""
    }
   },
   "outputs": [],
   "source": [
    "# Cálculo del número de ventas por país, a partir del fichero pdi_sales_small.csv\n",
    "rdd = sc.textFile(\"/FileStore/tables/pdi_sales_small.csv\")\n",
    "# Recogemos el país y las unidades de las ventas\n",
    "parPais1 = rdd.map(lambda x: (x.split(\";\")[-1].strip(), 1))\n",
    "parPais1.collect()"
   ]
  },
  {
   "cell_type": "code",
   "execution_count": 0,
   "metadata": {
    "application/vnd.databricks.v1+cell": {
     "inputWidgets": {},
     "nuid": "b49c6dd8-cd27-45fd-82a4-f6887190f0c0",
     "showTitle": false,
     "title": ""
    }
   },
   "outputs": [],
   "source": [
    "# Elimina el encabezado\n",
    "header = parPais1.first()\n",
    "parPais1SinHeader = parPais1.filter(lambda linea: linea != header)\n",
    "\n",
    "# Reducción por la clave\n",
    "paisesTotal = parPais1SinHeader.reduceByKey(lambda a,b: a+b)\n",
    "paisesTotal.collect()"
   ]
  },
  {
   "cell_type": "code",
   "execution_count": 0,
   "metadata": {
    "application/vnd.databricks.v1+cell": {
     "inputWidgets": {},
     "nuid": "86cc4722-2ccc-4ac2-bc2d-52e3364d3d66",
     "showTitle": false,
     "title": ""
    }
   },
   "outputs": [],
   "source": [
    "# Otra reducción calculando el total de unidades por país (cuarto y último campo de cada línea)\n",
    "rdd = sc.textFile(\"/FileStore/tables/pdi_sales_small.csv\")\n",
    "# Recogemos el país y las unidades de las ventas\n",
    "paisesUnidades = rdd.map(lambda x: (x.split(\";\")[-1].strip(), x.split(\";\")[3]))\n",
    "# Le quitamos el encabezado\n",
    "header = paisesUnidades.first()\n",
    "paisesUnidadesSinHeader = paisesUnidades.filter(lambda linea: linea != header)\n",
    "# Pasamos las unidades a un número entero\n",
    "paisesUnidadesInt = paisesUnidadesSinHeader.map(lambda x: (x[0], int(x[1])))\n",
    "# Reducimos por el país y sumamos las unidades\n",
    "paisesTotalUnidades = paisesUnidadesInt.reduceByKey(lambda a,b: a+b)\n",
    "paisesTotalUnidades.collect()"
   ]
  },
  {
   "cell_type": "markdown",
   "metadata": {
    "application/vnd.databricks.v1+cell": {
     "inputWidgets": {},
     "nuid": "fa846346-32aa-44c3-9def-fcbe22e418d9",
     "showTitle": false,
     "title": ""
    }
   },
   "source": [
    "#### GroupByKey"
   ]
  },
  {
   "cell_type": "code",
   "execution_count": 0,
   "metadata": {
    "application/vnd.databricks.v1+cell": {
     "inputWidgets": {},
     "nuid": "f63b73d6-16d6-4e63-a8b0-086364031f43",
     "showTitle": false,
     "title": ""
    }
   },
   "outputs": [],
   "source": [
    "# A partir del ejemplo anterior, obtenemos una lista para cada país\n",
    "rdd = sc.textFile(\"/FileStore/tables/pdi_sales_small.csv\")\n",
    "# Creamos un RDD de pares con el nombre del país como clave, y una lista con los valores\n",
    "ventas = rdd.map(lambda x: (x.split(\";\")[-1].strip(), x.split(\";\")))\n",
    "# Quitamos el primer elemento que es el encabezado del CSV\n",
    "header = ventas.first()\n",
    "ventasSinHeader = ventas.filter(lambda linea: linea != header)\n",
    "# Agrupamos las ventas por nombre del país\n",
    "ventasAgrupados = ventasSinHeader.groupByKey()\n",
    "ventasAgrupados.collect()"
   ]
  },
  {
   "cell_type": "code",
   "execution_count": 0,
   "metadata": {
    "application/vnd.databricks.v1+cell": {
     "inputWidgets": {},
     "nuid": "5de9ff78-ecd6-40f4-84ff-ff620f43e068",
     "showTitle": false,
     "title": ""
    }
   },
   "outputs": [],
   "source": [
    "# Transforma los iterables de cada país a una lista\n",
    "ventasAgrupadosLista = ventasAgrupados.map(lambda x: (x[0], list(x[1])))\n",
    "ventasAgrupadosLista.collect()"
   ]
  },
  {
   "cell_type": "markdown",
   "metadata": {
    "application/vnd.databricks.v1+cell": {
     "inputWidgets": {},
     "nuid": "c043d1f7-221d-4e70-9d19-936d65d935d6",
     "showTitle": false,
     "title": ""
    }
   },
   "source": [
    "**Otro ejemplo de groupByKey**\n",
    "\n",
    "A partir de las compras de 3 días:\n",
    "\n",
    "* día 1: pan 3€, agua 2€, azúcar 1€, leche 2€, pan 4€\n",
    "* día 2: pan 1€, cereales 3€, agua 0.5€, leche 2€, filetes 5€\n",
    "* día 3: filetes 2€, cereales 1€\n",
    "\n",
    "Obtener lo gastado en cada producto y el gasto medio realizado en cada uno de ellos"
   ]
  },
  {
   "cell_type": "code",
   "execution_count": 0,
   "metadata": {
    "application/vnd.databricks.v1+cell": {
     "inputWidgets": {},
     "nuid": "98ce39fb-136f-4842-84c2-5b2a3cb11eef",
     "showTitle": false,
     "title": ""
    }
   },
   "outputs": [],
   "source": [
    "# Generación de una lista por día\n",
    "dia1 = [('pan',3), ('agua',2), ('azúcar',1), ('leche',2), ('pan',4)]\n",
    "dia2 = [('pan',1), ('cereales',3), ('agua',0.5), ('leche',2), ('filetes',5)]\n",
    "dia3 = [('filetes',2), ('cereales',1)]"
   ]
  },
  {
   "cell_type": "code",
   "execution_count": 0,
   "metadata": {
    "application/vnd.databricks.v1+cell": {
     "inputWidgets": {},
     "nuid": "86f9c106-7f0e-4916-a5e9-1227d7152fb9",
     "showTitle": false,
     "title": ""
    }
   },
   "outputs": [],
   "source": [
    "# unión de las listas como RDD y se agrupan por productos (clave)\n",
    "rdd = sc.parallelize(dia1).union(sc.parallelize(dia2)).union(sc.parallelize(dia3))\n",
    "rdd1=rdd.groupByKey()"
   ]
  },
  {
   "cell_type": "code",
   "execution_count": 0,
   "metadata": {
    "application/vnd.databricks.v1+cell": {
     "inputWidgets": {},
     "nuid": "d3e17c02-40d4-41d3-8d79-8c9e40b32f60",
     "showTitle": false,
     "title": ""
    }
   },
   "outputs": [],
   "source": [
    "# Se crea una lista a partir del RDD agrupado rdd1\n",
    "rdd1a = [(x,list(y)) for x,y in rdd1.collect()]\n",
    "print(rdd1a)"
   ]
  },
  {
   "cell_type": "code",
   "execution_count": 0,
   "metadata": {
    "application/vnd.databricks.v1+cell": {
     "inputWidgets": {},
     "nuid": "88f460c0-cbaf-4aa6-a86f-91ddcd22b72d",
     "showTitle": false,
     "title": ""
    }
   },
   "outputs": [],
   "source": [
    "# Obtención del gasto por producto\n",
    "rdd1b = rdd1.map(lambda x: (x[0], list(x[1])))\n",
    "rdd1b.collect()"
   ]
  },
  {
   "cell_type": "code",
   "execution_count": 0,
   "metadata": {
    "application/vnd.databricks.v1+cell": {
     "inputWidgets": {},
     "nuid": "ca0586b2-3442-4e64-8817-992d7eaf001a",
     "showTitle": false,
     "title": ""
    }
   },
   "outputs": [],
   "source": [
    "# Obtención de la media de gasto por producto\n",
    "rdd2 = rdd1.map(lambda x: (x[0], sum(x[1])/len(x[1])))\n",
    "rdd2.collect()"
   ]
  },
  {
   "cell_type": "markdown",
   "metadata": {
    "application/vnd.databricks.v1+cell": {
     "inputWidgets": {},
     "nuid": "ba9cadfb-c331-402b-bd0f-e7ac7774522a",
     "showTitle": false,
     "title": ""
    }
   },
   "source": [
    "#### SortByKey"
   ]
  },
  {
   "cell_type": "code",
   "execution_count": 0,
   "metadata": {
    "application/vnd.databricks.v1+cell": {
     "inputWidgets": {},
     "nuid": "eb2b0f1b-bfe4-4f3f-b667-33d8c8bc8502",
     "showTitle": false,
     "title": ""
    }
   },
   "outputs": [],
   "source": [
    "# Utilizamos las líneas del ejemplo de ReduceByKey con paises y ventas con un archivo con más líneas\n",
    "rdd = sc.textFile(\"/FileStore/tables/pdi_sales.csv\")\n",
    "# Recogemos el país y las unidades de las ventas\n",
    "paisesUnidades = rdd.map(lambda x: (x.split(\";\")[-1].strip(), x.split(\";\")[3]))\n",
    "# Le quitamos el encabezado\n",
    "header = paisesUnidades.first()\n",
    "paisesUnidadesSinHeader = paisesUnidades.filter(lambda linea: linea != header)\n",
    "\n",
    "# A cada país le asignamos sus ventas totales\n",
    "paisesTotalUnidades = paisesUnidadesSinHeader.reduceByKey(lambda a,b: int(a)+int(b))\n",
    "paisesTotalUnidades.collect()\n"
   ]
  },
  {
   "cell_type": "code",
   "execution_count": 0,
   "metadata": {
    "application/vnd.databricks.v1+cell": {
     "inputWidgets": {},
     "nuid": "54fe0581-955c-4e68-9d46-199a5faddd1d",
     "showTitle": false,
     "title": ""
    }
   },
   "outputs": [],
   "source": [
    "# Le damos la vuelta a la lista\n",
    "unidadesPaises = paisesTotalUnidades.map(lambda x: (x[1],x[0]))\n",
    "unidadesPaises.collect()"
   ]
  },
  {
   "cell_type": "code",
   "execution_count": 0,
   "metadata": {
    "application/vnd.databricks.v1+cell": {
     "inputWidgets": {},
     "nuid": "11c0fcf0-0365-4bb5-accf-c7bf7a59c0c2",
     "showTitle": false,
     "title": ""
    }
   },
   "outputs": [],
   "source": [
    "# Ordenación en orden ascendente (por defecto)\n",
    "unidadesPaisesOrdenadas = unidadesPaises.sortByKey()\n",
    "unidadesPaisesOrdenadas.collect()"
   ]
  },
  {
   "cell_type": "code",
   "execution_count": 0,
   "metadata": {
    "application/vnd.databricks.v1+cell": {
     "inputWidgets": {},
     "nuid": "58827cb4-977c-4566-bb50-de795b23c27d",
     "showTitle": false,
     "title": ""
    }
   },
   "outputs": [],
   "source": [
    "# Ordenación en orden descendente (argumento a False)\n",
    "unidadesPaisesOrdenadasDesc = unidadesPaises.sortByKey(False)\n",
    "unidadesPaisesOrdenadasDesc.collect()"
   ]
  },
  {
   "cell_type": "markdown",
   "metadata": {
    "application/vnd.databricks.v1+cell": {
     "inputWidgets": {},
     "nuid": "61edc31f-8a2a-443a-a4bc-b6d3c2fde198",
     "showTitle": false,
     "title": ""
    }
   },
   "source": [
    "#### SortBy"
   ]
  },
  {
   "cell_type": "code",
   "execution_count": 0,
   "metadata": {
    "application/vnd.databricks.v1+cell": {
     "inputWidgets": {},
     "nuid": "044406d9-b4fa-44e6-a9e8-c0e6bb03a729",
     "showTitle": false,
     "title": ""
    }
   },
   "outputs": [],
   "source": [
    "#Ordenación por la cantidad vendida ascendente\n",
    "paisesTotalUnidades.sortBy(lambda x: x[1]).collect()"
   ]
  }
 ],
 "metadata": {
  "application/vnd.databricks.v1+notebook": {
   "dashboards": [],
   "language": "python",
   "notebookMetadata": {
    "pythonIndentUnit": 4
   },
   "notebookName": "6_2_transformaciones",
   "notebookOrigID": 918469903137113,
   "widgets": {}
  },
  "kernelspec": {
   "display_name": "Python 3",
   "language": "python",
   "name": "python3"
  },
  "language_info": {
   "codemirror_mode": {
    "name": "ipython",
    "version": 3
   },
   "file_extension": ".py",
   "mimetype": "text/x-python",
   "name": "python",
   "nbconvert_exporter": "python",
   "pygments_lexer": "ipython3",
   "version": "3.8.10"
  }
 },
 "nbformat": 4,
 "nbformat_minor": 1
}
